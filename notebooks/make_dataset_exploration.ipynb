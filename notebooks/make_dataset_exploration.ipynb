{
 "cells": [
  {
   "cell_type": "markdown",
   "metadata": {},
   "source": [
    "## Create a dataset\n",
    "This is notebook to explore the process of making a dataset - this is however just stiched together and should be done much nicer\n"
   ]
  },
  {
   "cell_type": "code",
   "execution_count": 149,
   "metadata": {},
   "outputs": [],
   "source": [
    "import matplotlib.pyplot as plt\n",
    "import numpy as np\n",
    "import cv2\n",
    "import pandas as pd\n",
    "from torchvision import transforms"
   ]
  },
  {
   "cell_type": "markdown",
   "metadata": {},
   "source": [
    "### Download a video to use"
   ]
  },
  {
   "cell_type": "code",
   "execution_count": 1,
   "metadata": {},
   "outputs": [],
   "source": [
    "# from pytube import YouTube\n",
    "# url = \"https://www.youtube.com/watch?v=0V0HQDwM22E\"\n",
    "# output_path = \"videos/highlights.mp4\"\n",
    "# file_name = \"rallies1.mp4\"\n",
    "\n",
    "# yt = YouTube(url)\n",
    "# yt.streams.filter(progressive=True, file_extension='mp4').order_by('resolution').desc().first().download(output_path=output_path, filename=file_name)"
   ]
  },
  {
   "cell_type": "markdown",
   "metadata": {},
   "source": [
    "### Load video / images"
   ]
  },
  {
   "cell_type": "code",
   "execution_count": 150,
   "metadata": {},
   "outputs": [
    {
     "name": "stdout",
     "output_type": "stream",
     "text": [
      "num frames: 19967, at 1280x720\n"
     ]
    }
   ],
   "source": [
    "MAX_FRAMES = 100_000\n",
    "\n",
    "cap = cv2.VideoCapture('../data/raw/videos/rallies1.mp4')\n",
    "frame_num = int(cap.get(cv2.CAP_PROP_FRAME_COUNT))\n",
    "frame_width = int(cap.get(cv2.CAP_PROP_FRAME_WIDTH))\n",
    "frame_height = int(cap.get(cv2.CAP_PROP_FRAME_HEIGHT))\n",
    "\n",
    "n_frames = min(MAX_FRAMES, frame_num)\n",
    "print(f\"num frames: {n_frames}, at {frame_width}x{frame_height}\")"
   ]
  },
  {
   "cell_type": "markdown",
   "metadata": {},
   "source": [
    "### Load keypoints"
   ]
  },
  {
   "cell_type": "code",
   "execution_count": 151,
   "metadata": {},
   "outputs": [
    {
     "name": "stdout",
     "output_type": "stream",
     "text": [
      "dict_keys(['licenses', 'info', 'categories', 'images', 'annotations'])\n",
      "{'id': 1, 'image_id': 11, 'category_id': 1, 'segmentation': [], 'area': 340725.36140000005, 'bbox': [180.8, 149.12, 914.11, 372.74], 'iscrowd': 0, 'attributes': {'occluded': False, 'keyframe': False}, 'keypoints': [180.8, 521.03, 2, 1094.91, 521.86, 2, 850.75, 149.96, 2, 428.12, 149.12, 2, 297.99, 519.37, 2, 978.02, 520.29, 2, 798.2, 150.6, 2, 480.69, 149.61, 2, 371.13, 373.82, 2, 640.42, 373.46, 2, 905.42, 373.9, 2, 819.03, 194.99, 2, 640.15, 196.19, 2, 459.01, 194.71, 2, 640.16, 266.15, 2], 'num_keypoints': 15}\n"
     ]
    }
   ],
   "source": [
    "import json\n",
    "f = open(\"../data/raw/videos/keypoints.json\")\n",
    "coco = json.load(f)\n",
    "f.close()\n",
    "\n",
    "print(coco.keys())\n",
    "print(coco['annotations'][0])"
   ]
  },
  {
   "cell_type": "code",
   "execution_count": 152,
   "metadata": {},
   "outputs": [
    {
     "data": {
      "text/html": [
       "<div>\n",
       "<style scoped>\n",
       "    .dataframe tbody tr th:only-of-type {\n",
       "        vertical-align: middle;\n",
       "    }\n",
       "\n",
       "    .dataframe tbody tr th {\n",
       "        vertical-align: top;\n",
       "    }\n",
       "\n",
       "    .dataframe thead th {\n",
       "        text-align: right;\n",
       "    }\n",
       "</style>\n",
       "<table border=\"1\" class=\"dataframe\">\n",
       "  <thead>\n",
       "    <tr style=\"text-align: right;\">\n",
       "      <th></th>\n",
       "      <th>image_id</th>\n",
       "      <th>image_name</th>\n",
       "      <th>point_0_x</th>\n",
       "      <th>point_0_y</th>\n",
       "      <th>point_1_x</th>\n",
       "      <th>point_1_y</th>\n",
       "      <th>point_2_x</th>\n",
       "      <th>point_2_y</th>\n",
       "      <th>point_3_x</th>\n",
       "      <th>point_3_y</th>\n",
       "      <th>...</th>\n",
       "      <th>point_10_x</th>\n",
       "      <th>point_10_y</th>\n",
       "      <th>point_11_x</th>\n",
       "      <th>point_11_y</th>\n",
       "      <th>point_12_x</th>\n",
       "      <th>point_12_y</th>\n",
       "      <th>point_13_x</th>\n",
       "      <th>point_13_y</th>\n",
       "      <th>point_14_x</th>\n",
       "      <th>point_14_y</th>\n",
       "    </tr>\n",
       "  </thead>\n",
       "  <tbody>\n",
       "    <tr>\n",
       "      <th>0</th>\n",
       "      <td>11</td>\n",
       "      <td>image_11.npy</td>\n",
       "      <td>180.80</td>\n",
       "      <td>521.03</td>\n",
       "      <td>1094.91</td>\n",
       "      <td>521.86</td>\n",
       "      <td>850.75</td>\n",
       "      <td>149.96</td>\n",
       "      <td>428.12</td>\n",
       "      <td>149.12</td>\n",
       "      <td>...</td>\n",
       "      <td>905.42</td>\n",
       "      <td>373.90</td>\n",
       "      <td>819.03</td>\n",
       "      <td>194.99</td>\n",
       "      <td>640.15</td>\n",
       "      <td>196.19</td>\n",
       "      <td>459.01</td>\n",
       "      <td>194.71</td>\n",
       "      <td>640.16</td>\n",
       "      <td>266.15</td>\n",
       "    </tr>\n",
       "    <tr>\n",
       "      <th>1</th>\n",
       "      <td>20</td>\n",
       "      <td>image_20.npy</td>\n",
       "      <td>180.93</td>\n",
       "      <td>520.48</td>\n",
       "      <td>1095.23</td>\n",
       "      <td>521.32</td>\n",
       "      <td>850.24</td>\n",
       "      <td>149.68</td>\n",
       "      <td>427.25</td>\n",
       "      <td>148.82</td>\n",
       "      <td>...</td>\n",
       "      <td>905.34</td>\n",
       "      <td>373.61</td>\n",
       "      <td>818.98</td>\n",
       "      <td>194.58</td>\n",
       "      <td>639.70</td>\n",
       "      <td>195.58</td>\n",
       "      <td>458.17</td>\n",
       "      <td>194.58</td>\n",
       "      <td>640.35</td>\n",
       "      <td>266.11</td>\n",
       "    </tr>\n",
       "    <tr>\n",
       "      <th>2</th>\n",
       "      <td>30</td>\n",
       "      <td>image_30.npy</td>\n",
       "      <td>180.86</td>\n",
       "      <td>520.17</td>\n",
       "      <td>1095.17</td>\n",
       "      <td>521.01</td>\n",
       "      <td>850.18</td>\n",
       "      <td>149.37</td>\n",
       "      <td>427.18</td>\n",
       "      <td>148.51</td>\n",
       "      <td>...</td>\n",
       "      <td>905.27</td>\n",
       "      <td>373.30</td>\n",
       "      <td>818.92</td>\n",
       "      <td>194.27</td>\n",
       "      <td>639.63</td>\n",
       "      <td>195.26</td>\n",
       "      <td>458.10</td>\n",
       "      <td>194.27</td>\n",
       "      <td>640.80</td>\n",
       "      <td>266.31</td>\n",
       "    </tr>\n",
       "    <tr>\n",
       "      <th>3</th>\n",
       "      <td>40</td>\n",
       "      <td>image_40.npy</td>\n",
       "      <td>180.86</td>\n",
       "      <td>519.65</td>\n",
       "      <td>1095.17</td>\n",
       "      <td>520.49</td>\n",
       "      <td>850.18</td>\n",
       "      <td>148.85</td>\n",
       "      <td>427.18</td>\n",
       "      <td>147.99</td>\n",
       "      <td>...</td>\n",
       "      <td>905.27</td>\n",
       "      <td>372.78</td>\n",
       "      <td>818.92</td>\n",
       "      <td>193.75</td>\n",
       "      <td>639.63</td>\n",
       "      <td>194.75</td>\n",
       "      <td>458.10</td>\n",
       "      <td>193.75</td>\n",
       "      <td>640.80</td>\n",
       "      <td>265.80</td>\n",
       "    </tr>\n",
       "    <tr>\n",
       "      <th>4</th>\n",
       "      <td>50</td>\n",
       "      <td>image_50.npy</td>\n",
       "      <td>180.35</td>\n",
       "      <td>520.68</td>\n",
       "      <td>1094.65</td>\n",
       "      <td>521.53</td>\n",
       "      <td>849.66</td>\n",
       "      <td>149.89</td>\n",
       "      <td>426.67</td>\n",
       "      <td>149.02</td>\n",
       "      <td>...</td>\n",
       "      <td>904.76</td>\n",
       "      <td>373.81</td>\n",
       "      <td>818.40</td>\n",
       "      <td>194.79</td>\n",
       "      <td>639.12</td>\n",
       "      <td>195.78</td>\n",
       "      <td>457.59</td>\n",
       "      <td>194.78</td>\n",
       "      <td>640.28</td>\n",
       "      <td>266.83</td>\n",
       "    </tr>\n",
       "    <tr>\n",
       "      <th>...</th>\n",
       "      <td>...</td>\n",
       "      <td>...</td>\n",
       "      <td>...</td>\n",
       "      <td>...</td>\n",
       "      <td>...</td>\n",
       "      <td>...</td>\n",
       "      <td>...</td>\n",
       "      <td>...</td>\n",
       "      <td>...</td>\n",
       "      <td>...</td>\n",
       "      <td>...</td>\n",
       "      <td>...</td>\n",
       "      <td>...</td>\n",
       "      <td>...</td>\n",
       "      <td>...</td>\n",
       "      <td>...</td>\n",
       "      <td>...</td>\n",
       "      <td>...</td>\n",
       "      <td>...</td>\n",
       "      <td>...</td>\n",
       "      <td>...</td>\n",
       "    </tr>\n",
       "    <tr>\n",
       "      <th>429</th>\n",
       "      <td>8813</td>\n",
       "      <td>image_8813.npy</td>\n",
       "      <td>195.10</td>\n",
       "      <td>530.81</td>\n",
       "      <td>1079.94</td>\n",
       "      <td>528.96</td>\n",
       "      <td>860.90</td>\n",
       "      <td>165.90</td>\n",
       "      <td>417.77</td>\n",
       "      <td>166.48</td>\n",
       "      <td>...</td>\n",
       "      <td>906.74</td>\n",
       "      <td>392.94</td>\n",
       "      <td>826.13</td>\n",
       "      <td>213.38</td>\n",
       "      <td>639.20</td>\n",
       "      <td>214.28</td>\n",
       "      <td>452.55</td>\n",
       "      <td>213.88</td>\n",
       "      <td>639.06</td>\n",
       "      <td>287.52</td>\n",
       "    </tr>\n",
       "    <tr>\n",
       "      <th>430</th>\n",
       "      <td>8823</td>\n",
       "      <td>image_8823.npy</td>\n",
       "      <td>195.10</td>\n",
       "      <td>530.81</td>\n",
       "      <td>1079.94</td>\n",
       "      <td>528.96</td>\n",
       "      <td>860.90</td>\n",
       "      <td>165.90</td>\n",
       "      <td>417.77</td>\n",
       "      <td>166.48</td>\n",
       "      <td>...</td>\n",
       "      <td>906.74</td>\n",
       "      <td>392.94</td>\n",
       "      <td>826.13</td>\n",
       "      <td>213.38</td>\n",
       "      <td>639.20</td>\n",
       "      <td>214.28</td>\n",
       "      <td>452.55</td>\n",
       "      <td>213.88</td>\n",
       "      <td>639.06</td>\n",
       "      <td>287.52</td>\n",
       "    </tr>\n",
       "    <tr>\n",
       "      <th>431</th>\n",
       "      <td>8833</td>\n",
       "      <td>image_8833.npy</td>\n",
       "      <td>195.10</td>\n",
       "      <td>530.81</td>\n",
       "      <td>1079.94</td>\n",
       "      <td>528.96</td>\n",
       "      <td>860.90</td>\n",
       "      <td>165.90</td>\n",
       "      <td>417.77</td>\n",
       "      <td>166.48</td>\n",
       "      <td>...</td>\n",
       "      <td>906.74</td>\n",
       "      <td>392.94</td>\n",
       "      <td>826.13</td>\n",
       "      <td>213.38</td>\n",
       "      <td>639.20</td>\n",
       "      <td>214.28</td>\n",
       "      <td>452.55</td>\n",
       "      <td>213.88</td>\n",
       "      <td>639.06</td>\n",
       "      <td>287.52</td>\n",
       "    </tr>\n",
       "    <tr>\n",
       "      <th>432</th>\n",
       "      <td>8843</td>\n",
       "      <td>image_8843.npy</td>\n",
       "      <td>195.10</td>\n",
       "      <td>530.81</td>\n",
       "      <td>1079.94</td>\n",
       "      <td>528.96</td>\n",
       "      <td>860.90</td>\n",
       "      <td>165.90</td>\n",
       "      <td>417.77</td>\n",
       "      <td>166.48</td>\n",
       "      <td>...</td>\n",
       "      <td>906.74</td>\n",
       "      <td>392.94</td>\n",
       "      <td>826.13</td>\n",
       "      <td>213.38</td>\n",
       "      <td>639.20</td>\n",
       "      <td>214.28</td>\n",
       "      <td>452.55</td>\n",
       "      <td>213.88</td>\n",
       "      <td>639.06</td>\n",
       "      <td>287.52</td>\n",
       "    </tr>\n",
       "    <tr>\n",
       "      <th>433</th>\n",
       "      <td>8853</td>\n",
       "      <td>image_8853.npy</td>\n",
       "      <td>195.10</td>\n",
       "      <td>530.81</td>\n",
       "      <td>1079.94</td>\n",
       "      <td>528.96</td>\n",
       "      <td>860.90</td>\n",
       "      <td>165.90</td>\n",
       "      <td>417.77</td>\n",
       "      <td>166.48</td>\n",
       "      <td>...</td>\n",
       "      <td>906.74</td>\n",
       "      <td>392.94</td>\n",
       "      <td>826.13</td>\n",
       "      <td>213.38</td>\n",
       "      <td>639.20</td>\n",
       "      <td>214.28</td>\n",
       "      <td>452.55</td>\n",
       "      <td>213.88</td>\n",
       "      <td>639.06</td>\n",
       "      <td>287.52</td>\n",
       "    </tr>\n",
       "  </tbody>\n",
       "</table>\n",
       "<p>434 rows × 32 columns</p>\n",
       "</div>"
      ],
      "text/plain": [
       "     image_id      image_name  point_0_x  point_0_y  point_1_x  point_1_y  \\\n",
       "0          11    image_11.npy     180.80     521.03    1094.91     521.86   \n",
       "1          20    image_20.npy     180.93     520.48    1095.23     521.32   \n",
       "2          30    image_30.npy     180.86     520.17    1095.17     521.01   \n",
       "3          40    image_40.npy     180.86     519.65    1095.17     520.49   \n",
       "4          50    image_50.npy     180.35     520.68    1094.65     521.53   \n",
       "..        ...             ...        ...        ...        ...        ...   \n",
       "429      8813  image_8813.npy     195.10     530.81    1079.94     528.96   \n",
       "430      8823  image_8823.npy     195.10     530.81    1079.94     528.96   \n",
       "431      8833  image_8833.npy     195.10     530.81    1079.94     528.96   \n",
       "432      8843  image_8843.npy     195.10     530.81    1079.94     528.96   \n",
       "433      8853  image_8853.npy     195.10     530.81    1079.94     528.96   \n",
       "\n",
       "     point_2_x  point_2_y  point_3_x  point_3_y  ...  point_10_x  point_10_y  \\\n",
       "0       850.75     149.96     428.12     149.12  ...      905.42      373.90   \n",
       "1       850.24     149.68     427.25     148.82  ...      905.34      373.61   \n",
       "2       850.18     149.37     427.18     148.51  ...      905.27      373.30   \n",
       "3       850.18     148.85     427.18     147.99  ...      905.27      372.78   \n",
       "4       849.66     149.89     426.67     149.02  ...      904.76      373.81   \n",
       "..         ...        ...        ...        ...  ...         ...         ...   \n",
       "429     860.90     165.90     417.77     166.48  ...      906.74      392.94   \n",
       "430     860.90     165.90     417.77     166.48  ...      906.74      392.94   \n",
       "431     860.90     165.90     417.77     166.48  ...      906.74      392.94   \n",
       "432     860.90     165.90     417.77     166.48  ...      906.74      392.94   \n",
       "433     860.90     165.90     417.77     166.48  ...      906.74      392.94   \n",
       "\n",
       "     point_11_x  point_11_y  point_12_x  point_12_y  point_13_x  point_13_y  \\\n",
       "0        819.03      194.99      640.15      196.19      459.01      194.71   \n",
       "1        818.98      194.58      639.70      195.58      458.17      194.58   \n",
       "2        818.92      194.27      639.63      195.26      458.10      194.27   \n",
       "3        818.92      193.75      639.63      194.75      458.10      193.75   \n",
       "4        818.40      194.79      639.12      195.78      457.59      194.78   \n",
       "..          ...         ...         ...         ...         ...         ...   \n",
       "429      826.13      213.38      639.20      214.28      452.55      213.88   \n",
       "430      826.13      213.38      639.20      214.28      452.55      213.88   \n",
       "431      826.13      213.38      639.20      214.28      452.55      213.88   \n",
       "432      826.13      213.38      639.20      214.28      452.55      213.88   \n",
       "433      826.13      213.38      639.20      214.28      452.55      213.88   \n",
       "\n",
       "     point_14_x  point_14_y  \n",
       "0        640.16      266.15  \n",
       "1        640.35      266.11  \n",
       "2        640.80      266.31  \n",
       "3        640.80      265.80  \n",
       "4        640.28      266.83  \n",
       "..          ...         ...  \n",
       "429      639.06      287.52  \n",
       "430      639.06      287.52  \n",
       "431      639.06      287.52  \n",
       "432      639.06      287.52  \n",
       "433      639.06      287.52  \n",
       "\n",
       "[434 rows x 32 columns]"
      ]
     },
     "execution_count": 152,
     "metadata": {},
     "output_type": "execute_result"
    }
   ],
   "source": [
    "df_data = []\n",
    "image_names = []\n",
    "image_ids = []\n",
    "\n",
    "for annotation in coco['annotations']:\n",
    "    id = annotation['image_id']\n",
    "\n",
    "    image_name = f\"image_{id}.npy\"\n",
    "    image_names.append(image_name)\n",
    "    image_ids.append(id)\n",
    "\n",
    "    keypoints = np.array(annotation['keypoints']).reshape(-1,3)[:,:2].flatten()\n",
    "    df_data.append(keypoints)\n",
    "\n",
    "kp_names = [f'point_{n}_{xy}' for n in range(15) for xy in [\"x\",\"y\"]]\n",
    "\n",
    "df = pd.DataFrame(df_data, columns=kp_names, index=None)\n",
    "df.insert(0, \"image_name\", image_names)\n",
    "df.insert(0, \"image_id\", image_ids)\n",
    "df"
   ]
  },
  {
   "cell_type": "markdown",
   "metadata": {},
   "source": [
    "# Save\n",
    "### Images"
   ]
  },
  {
   "cell_type": "code",
   "execution_count": 133,
   "metadata": {},
   "outputs": [
    {
     "name": "stdout",
     "output_type": "stream",
     "text": [
      "{4101, 11, 2061, 4111, 20, 2071, 4121, 30, 2081, 4131, 40, 8233, 2091, 4141, 50, 8243, 2101, 4151, 60, 8253, 2111, 4161, 70, 8263, 2121, 4171, 80, 8273, 2131, 4181, 90, 8283, 2141, 4191, 100, 8293, 2151, 4201, 110, 8303, 2161, 4211, 120, 8313, 2171, 4221, 130, 8323, 2181, 4231, 140, 8333, 2191, 4241, 150, 8343, 2201, 4251, 160, 8353, 2211, 4261, 170, 8363, 2221, 4271, 180, 8373, 2231, 4281, 190, 8383, 2241, 4291, 200, 2251, 4301, 210, 2261, 4311, 220, 2271, 4321, 230, 2281, 4331, 240, 2291, 4341, 250, 2301, 4351, 260, 2311, 4361, 270, 2321, 4371, 280, 2331, 4381, 290, 2341, 4391, 300, 2351, 4401, 310, 2361, 4411, 320, 2371, 4421, 330, 2381, 4431, 340, 2391, 4441, 350, 2401, 4451, 360, 2411, 4461, 370, 2421, 4471, 380, 2431, 4481, 390, 2441, 4491, 400, 2451, 4501, 410, 2461, 4511, 420, 2471, 4521, 430, 8623, 2481, 4531, 440, 8633, 2491, 4541, 450, 8643, 2501, 4551, 460, 8653, 2511, 4561, 470, 8663, 2521, 4571, 480, 8673, 2531, 4581, 490, 8683, 2541, 4591, 500, 8693, 2551, 4601, 510, 8703, 2561, 4611, 520, 8713, 2571, 4621, 530, 8723, 2581, 4631, 540, 8733, 2591, 4641, 550, 8743, 2601, 4651, 8753, 2611, 4661, 8763, 2621, 4671, 8773, 2631, 4681, 8783, 2641, 4691, 8793, 2651, 4701, 8803, 2661, 4711, 8813, 2671, 4721, 8823, 2681, 4731, 8833, 2691, 4741, 8843, 2701, 4751, 8853, 2711, 4761, 2721, 4771, 2731, 4781, 2741, 4791, 2751, 4801, 2761, 4811, 2771, 4821, 2781, 4831, 2791, 4841, 2801, 4851, 2811, 4861, 2821, 4871, 2831, 4881, 2841, 4891, 2851, 4901, 2861, 4911, 2871, 4921, 2881, 4931, 2891, 4941, 2901, 4951, 2911, 4961, 2921, 4971, 2931, 4981, 2941, 4991, 2951, 5001, 2961, 5011, 2971, 5021, 2981, 5031, 2991, 5041, 3001, 5051, 3011, 5061, 3021, 5071, 3031, 5081, 3041, 5091, 3051, 5101, 3061, 5111, 3071, 5121, 3081, 5131, 3091, 5141, 5151, 5161, 5171, 5181, 5191, 5201, 5211, 5221, 5231, 5241, 5251, 5261, 5271, 5281, 5291, 5301, 5311, 5321, 5331, 5341, 5351, 5361, 5371, 5381, 5391, 5401, 5411, 5421, 5431, 5441, 5451, 5461, 5471, 5481, 5491, 5501, 5511, 5521, 5531, 5541, 5551, 5561, 5571, 5581, 5591, 5601, 5611, 5621, 5631, 3591, 5641, 3601, 5651, 3611, 5661, 3621, 5671, 3631, 5681, 3641, 5691, 3651, 5701, 3661, 5711, 3671, 5721, 3681, 5731, 3691, 5741, 3701, 5751, 3711, 5761, 3721, 5771, 3731, 5781, 3741, 5791, 3751, 5801, 3761, 5811, 3771, 5821, 3781, 5831, 3791, 5841, 3801, 5851, 3811, 5861, 3821, 5871, 3831, 5881, 3841, 5891, 3851, 5901, 3861, 5911, 3871, 5921, 3881, 5931, 3891, 3901, 3911, 3921, 3931, 3941, 3951, 3961, 3971, 3981, 3991, 4001, 4011, 4021, 4031, 4041, 4051, 4061, 4071, 4081, 4091}\n"
     ]
    }
   ],
   "source": [
    "annotated_image_idx = set([anno['image_id'] for anno in coco['annotations']])\n",
    "print(annotated_image_idx)\n",
    "\n",
    "frame_num = 0\n",
    "ret = True\n",
    "\n",
    "while (ret and frame_num < n_frames):\n",
    "    ret, im = cap.read()\n",
    "    if frame_num in annotated_image_idx:\n",
    "        image = cv2.cvtColor(im, cv2.COLOR_BGR2RGB).astype(np.float32)\n",
    "        np.save(f\"../data/processed/images/image_{frame_num}.npy\", image)\n",
    "\n",
    "    frame_num += 1"
   ]
  },
  {
   "cell_type": "markdown",
   "metadata": {},
   "source": [
    "### Labels/keypoints - as csv, not used"
   ]
  },
  {
   "cell_type": "code",
   "execution_count": 134,
   "metadata": {},
   "outputs": [],
   "source": [
    "df.to_csv(\"../data/processed/keypoints.csv\", header=True, index=False)"
   ]
  },
  {
   "cell_type": "markdown",
   "metadata": {},
   "source": [
    "### Labels - as images"
   ]
  },
  {
   "cell_type": "code",
   "execution_count": 153,
   "metadata": {},
   "outputs": [],
   "source": [
    "def gaussian_kernel(size, sigma2):\n",
    "    \"\"\"Generates a Gaussian kernel. Centered at 0,0\"\"\"\n",
    "    x = np.arange(-size//2 + 1., size//2 + 1.)\n",
    "    x = (1.0 / (2 * np.pi * sigma2)) * np.exp(-(((x - 0)** 2 + (x - 0)**2) / (2 * sigma2))) * (2 * np.pi * sigma2)\n",
    "    kernel = np.outer(x, x)\n",
    "    return kernel * 255"
   ]
  },
  {
   "cell_type": "code",
   "execution_count": 154,
   "metadata": {},
   "outputs": [],
   "source": [
    "for annotation in coco['annotations']:\n",
    "    id = annotation['image_id']\n",
    "    keypoints = np.array(annotation['keypoints']).reshape(-1,3)[:,:2]\n",
    "\n",
    "    im = np.zeros((frame_height, frame_width), dtype=np.float32)\n",
    "\n",
    "    radius = 5\n",
    "    sigma2 = 10 # squared sigma\n",
    "\n",
    "    for cx, cy in keypoints:\n",
    "        cx = int(cx)\n",
    "        cy = int(cy)\n",
    "        gaussian = gaussian_kernel(2 * radius, sigma2)\n",
    "\n",
    "        im[cy-radius:cy+radius, cx-radius:cx+radius] = gaussian\n",
    "        # break # save only one point for testing\n",
    "\n",
    "    np.save(f\"../data/processed/labels/image_{id}.npy\", im)"
   ]
  },
  {
   "cell_type": "markdown",
   "metadata": {},
   "source": [
    "# Test the dataset model"
   ]
  },
  {
   "cell_type": "code",
   "execution_count": 2,
   "metadata": {},
   "outputs": [],
   "source": [
    "from tennis_court_tracker.data.TennisCourtDataset import TennisCourtDataset, ToTensor, Rescale, RandomCrop"
   ]
  },
  {
   "cell_type": "code",
   "execution_count": 6,
   "metadata": {},
   "outputs": [],
   "source": [
    "court_dataset = TennisCourtDataset(\n",
    "    \"../data/processed/keypoints/keypoints.csv\", \n",
    "    \"../data/processed/images/\",\n",
    "    transform = transforms.Compose([\n",
    "        Rescale((360, 640)),\n",
    "    #     # RandomCrop(224),\n",
    "        # ToTensor()\n",
    "    ])\n",
    ")"
   ]
  },
  {
   "cell_type": "code",
   "execution_count": 7,
   "metadata": {},
   "outputs": [],
   "source": [
    "def show_keypoints(ax, image, keypoints):\n",
    "    ax.imshow(image)\n",
    "    ax.scatter(keypoints[:,0], keypoints[:,1], linewidth=0.25, marker=\".\", c=\"red\")"
   ]
  },
  {
   "cell_type": "code",
   "execution_count": 8,
   "metadata": {},
   "outputs": [
    {
     "name": "stdout",
     "output_type": "stream",
     "text": [
      "0 torch.Size([3, 360, 640]) torch.Size([15, 2])\n"
     ]
    },
    {
     "data": {
      "text/plain": [
       "<Figure size 640x480 with 0 Axes>"
      ]
     },
     "metadata": {},
     "output_type": "display_data"
    }
   ],
   "source": [
    "fig = plt.figure()\n",
    "\n",
    "for i, sample in enumerate(court_dataset):\n",
    "    print(i, sample['image'].shape, sample['keypoints'].shape)\n",
    "    ax = plt.subplot(1, 4, i + 1)\n",
    "    plt.tight_layout()\n",
    "    ax.set_title('Sample #{}'.format(i))\n",
    "    ax.axis('off')\n",
    "    show_keypoints(ax, **sample)\n",
    "\n",
    "    if i == 3:\n",
    "        plt.show()\n",
    "        break"
   ]
  },
  {
   "cell_type": "code",
   "execution_count": 148,
   "metadata": {},
   "outputs": [
    {
     "data": {
      "text/plain": [
       "<matplotlib.image.AxesImage at 0x29c329db0>"
      ]
     },
     "execution_count": 148,
     "metadata": {},
     "output_type": "execute_result"
    },
    {
     "data": {
      "image/png": "[encoded data removed]",
      "text/plain": [
       "<Figure size 640x480 with 1 Axes>"
      ]
     },
     "metadata": {},
     "output_type": "display_data"
    }
   ],
   "source": [
    "radius = 50\n",
    "sigma2 = 10 # squared sigma\n",
    "\n",
    "plt.imshow(gaussian_kernel(2*radius,10))\n",
    "plt.colorbar()"
   ]
  }
 ],
 "metadata": {
  "kernelspec": {
   "display_name": "base",
   "language": "python",
   "name": "python3"
  },
  "language_info": {
   "codemirror_mode": {
    "name": "ipython",
    "version": 3
   },
   "file_extension": ".py",
   "mimetype": "text/x-python",
   "name": "python",
   "nbconvert_exporter": "python",
   "pygments_lexer": "ipython3",
   "version": "3.10.0"
  }
 },
 "nbformat": 4,
 "nbformat_minor": 2
}
